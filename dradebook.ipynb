{
 "cells": [
  {
   "cell_type": "code",
   "execution_count": 2,
   "id": "b9ffdc8a-7e2d-4ce1-9a7e-74655c6cefdb",
   "metadata": {},
   "outputs": [],
   "source": [
    "subjects = ['physics', 'calculus', 'poetry', 'history']"
   ]
  },
  {
   "cell_type": "code",
   "execution_count": 3,
   "id": "21aab909-00e8-460a-9a03-e1aa6615d1b7",
   "metadata": {},
   "outputs": [],
   "source": [
    "grades = [98, 97, 85, 88]"
   ]
  },
  {
   "cell_type": "code",
   "execution_count": 4,
   "id": "d6fb1378-995b-4ea6-bb70-bdea785b4213",
   "metadata": {},
   "outputs": [],
   "source": [
    "gradebook = [[subjects[i], grades[i]]\n",
    "             for i in range(len(subjects))]"
   ]
  },
  {
   "cell_type": "code",
   "execution_count": 5,
   "id": "5bb53f2d-fe35-403b-883d-2c3f89102af3",
   "metadata": {},
   "outputs": [
    {
     "name": "stdout",
     "output_type": "stream",
     "text": [
      "[['physics', 98], ['calculus', 97], ['poetry', 85], ['history', 88]]\n"
     ]
    }
   ],
   "source": [
    "print(gradebook)"
   ]
  },
  {
   "cell_type": "code",
   "execution_count": 6,
   "id": "9ed99428-e318-444c-bd2c-68c9e6730563",
   "metadata": {},
   "outputs": [
    {
     "data": {
      "text/plain": [
       "[['physics', 98],\n",
       " ['calculus', 97],\n",
       " ['poetry', 85],\n",
       " ['history', 88],\n",
       " ['computer science', 100]]"
      ]
     },
     "execution_count": 6,
     "metadata": {},
     "output_type": "execute_result"
    }
   ],
   "source": [
    "gradebook.append([\"computer science\", 100])\n",
    "gradebook"
   ]
  },
  {
   "cell_type": "code",
   "execution_count": 7,
   "id": "8f024df4-bebb-4505-afd2-80fca6b3a990",
   "metadata": {},
   "outputs": [
    {
     "data": {
      "text/plain": [
       "[['physics', 98],\n",
       " ['calculus', 97],\n",
       " ['poetry', 85],\n",
       " ['history', 88],\n",
       " ['computer science', 100],\n",
       " ['visual arts', 93]]"
      ]
     },
     "execution_count": 7,
     "metadata": {},
     "output_type": "execute_result"
    }
   ],
   "source": [
    "gradebook.append([\"visual arts\", 93])\n",
    "gradebook"
   ]
  },
  {
   "cell_type": "code",
   "execution_count": 8,
   "id": "95d500f6-093c-4501-8c68-7f86a04364d8",
   "metadata": {},
   "outputs": [
    {
     "data": {
      "text/plain": [
       "[['physics', 98],\n",
       " ['calculus', 97],\n",
       " ['poetry', 85],\n",
       " ['history', 88],\n",
       " ['computer science', 100],\n",
       " ['visual arts', 98]]"
      ]
     },
     "execution_count": 8,
     "metadata": {},
     "output_type": "execute_result"
    }
   ],
   "source": [
    "gradebook[5][1] += 5\n",
    "gradebook"
   ]
  },
  {
   "cell_type": "code",
   "execution_count": 9,
   "id": "5ebe129f-9f5d-4fba-8f5d-a8e6500a934d",
   "metadata": {},
   "outputs": [
    {
     "data": {
      "text/plain": [
       "[['physics', 98],\n",
       " ['calculus', 97],\n",
       " ['poetry'],\n",
       " ['history', 88],\n",
       " ['computer science', 100],\n",
       " ['visual arts', 98]]"
      ]
     },
     "execution_count": 9,
     "metadata": {},
     "output_type": "execute_result"
    }
   ],
   "source": [
    "gradebook[2].remove(85)\n",
    "gradebook"
   ]
  },
  {
   "cell_type": "code",
   "execution_count": 10,
   "id": "b8bf75ef-d204-403b-8135-394ef63d078f",
   "metadata": {},
   "outputs": [
    {
     "data": {
      "text/plain": [
       "[['physics', 98],\n",
       " ['calculus', 97],\n",
       " ['poetry', 'Pass'],\n",
       " ['history', 88],\n",
       " ['computer science', 100],\n",
       " ['visual arts', 98]]"
      ]
     },
     "execution_count": 10,
     "metadata": {},
     "output_type": "execute_result"
    }
   ],
   "source": [
    "gradebook[2].append(\"Pass\")\n",
    "gradebook"
   ]
  },
  {
   "cell_type": "code",
   "execution_count": 11,
   "id": "0491bdd7-e091-4a4a-a987-cca93eea0608",
   "metadata": {},
   "outputs": [],
   "source": [
    "last_semester_gradebook = [[\"politics\", 80], [\"latin\", 96], [\"dance\", 97], [\"architecture\", 65]]"
   ]
  },
  {
   "cell_type": "code",
   "execution_count": 12,
   "id": "dcedf44c-4b76-4614-afec-fb098bcba38b",
   "metadata": {},
   "outputs": [
    {
     "data": {
      "text/plain": [
       "[['politics', 80],\n",
       " ['latin', 96],\n",
       " ['dance', 97],\n",
       " ['architecture', 65],\n",
       " ['physics', 98],\n",
       " ['calculus', 97],\n",
       " ['poetry', 'Pass'],\n",
       " ['history', 88],\n",
       " ['computer science', 100],\n",
       " ['visual arts', 98]]"
      ]
     },
     "execution_count": 12,
     "metadata": {},
     "output_type": "execute_result"
    }
   ],
   "source": [
    "full_gradebook = last_semester_gradebook + gradebook\n",
    "full_gradebook"
   ]
  }
 ],
 "metadata": {
  "kernelspec": {
   "display_name": "Python 3 (ipykernel)",
   "language": "python",
   "name": "python3"
  },
  "language_info": {
   "codemirror_mode": {
    "name": "ipython",
    "version": 3
   },
   "file_extension": ".py",
   "mimetype": "text/x-python",
   "name": "python",
   "nbconvert_exporter": "python",
   "pygments_lexer": "ipython3",
   "version": "3.10.9"
  }
 },
 "nbformat": 4,
 "nbformat_minor": 5
}
